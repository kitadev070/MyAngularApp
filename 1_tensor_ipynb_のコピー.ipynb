{
  "cells": [
    {
      "cell_type": "markdown",
      "metadata": {
        "id": "view-in-github",
        "colab_type": "text"
      },
      "source": [
        "<a href=\"https://colab.research.google.com/github/kitadev070/MyAngularApp/blob/master/1_tensor_ipynb_%E3%81%AE%E3%82%B3%E3%83%94%E3%83%BC.ipynb\" target=\"_parent\"><img src=\"https://colab.research.google.com/assets/colab-badge.svg\" alt=\"Open In Colab\"/></a>"
      ]
    },
    {
      "cell_type": "markdown",
      "id": "3317c7f7-ead0-4167-bd32-c31815cadc68",
      "metadata": {
        "id": "3317c7f7-ead0-4167-bd32-c31815cadc68"
      },
      "source": [
        "# tensor\n",
        "\n",
        "https://yutaroogawa.github.io/pytorch_tutorials_jp/"
      ]
    },
    {
      "cell_type": "markdown",
      "id": "5b190cae-0e4d-44b4-b95b-18541f0ae309",
      "metadata": {
        "id": "5b190cae-0e4d-44b4-b95b-18541f0ae309"
      },
      "source": [
        "テンソルは特殊なデータ構造で、配列や行列によく似ています。\n",
        "PyTorchではテンソル型の変数を使用して、モデルの入力と出力、そしてモデルのパラメータを表現します。\n",
        "\n",
        "テンソルはNumPyのndarraysに似ていますが、違いとしてGPUや他のハードウェアアクセラレータ上で動作させることができます。\n",
        "テンソルとNumPyの配列は基本的には同じメモリを共有することができるため、2つの型間での変換時にはデータをコピーする必要がありません。\n",
        "\n",
        "テンソルはその他に、自動微分に最適化されています（この点については、後ほど5. 自動微分にて、詳しく説明します）。"
      ]
    },
    {
      "cell_type": "code",
      "execution_count": null,
      "id": "653d3237-d877-4c8f-abc1-145906f525de",
      "metadata": {
        "id": "653d3237-d877-4c8f-abc1-145906f525de"
      },
      "outputs": [],
      "source": [
        "import torch\n",
        "import numpy as np"
      ]
    },
    {
      "cell_type": "markdown",
      "id": "32e1e88e-6b96-45c1-a139-0e8db87a57dd",
      "metadata": {
        "id": "32e1e88e-6b96-45c1-a139-0e8db87a57dd"
      },
      "source": [
        "## 1. tensorの作成"
      ]
    },
    {
      "cell_type": "markdown",
      "id": "07c9c362-10c0-41b1-9621-99114d060291",
      "metadata": {
        "id": "07c9c362-10c0-41b1-9621-99114d060291"
      },
      "source": [
        "### 1) データから直接作成"
      ]
    },
    {
      "cell_type": "code",
      "execution_count": null,
      "id": "07aa235b-0832-4d33-8dcf-f354be02efa1",
      "metadata": {
        "id": "07aa235b-0832-4d33-8dcf-f354be02efa1",
        "outputId": "972b1708-b1eb-4385-a7c2-1abaf4f57ab6",
        "colab": {
          "base_uri": "https://localhost:8080/"
        }
      },
      "outputs": [
        {
          "output_type": "stream",
          "name": "stdout",
          "text": [
            "tensor([[1, 2],\n",
            "        [3, 4]])\n"
          ]
        }
      ],
      "source": [
        "data = [[1, 2],[3, 4]]\n",
        "x_data = torch.tensor(data)\n",
        "\n",
        "print(x_data)"
      ]
    },
    {
      "cell_type": "markdown",
      "id": "bade7b83-3e68-429d-9165-1c612f98e4d2",
      "metadata": {
        "id": "bade7b83-3e68-429d-9165-1c612f98e4d2"
      },
      "source": [
        "### 2) numpy ndarrayからtensorに変換"
      ]
    },
    {
      "cell_type": "code",
      "execution_count": null,
      "id": "6fd5c7b4-6ee6-46cd-b0c5-057883355224",
      "metadata": {
        "id": "6fd5c7b4-6ee6-46cd-b0c5-057883355224",
        "outputId": "057cebb9-adc4-48e9-b485-9e28df3a1a66",
        "colab": {
          "base_uri": "https://localhost:8080/"
        }
      },
      "outputs": [
        {
          "output_type": "stream",
          "name": "stdout",
          "text": [
            "<class 'numpy.ndarray'>\n",
            "[[1 2]\n",
            " [3 4]]\n",
            "tensor([[1, 2],\n",
            "        [3, 4]])\n",
            "<class 'torch.Tensor'>\n"
          ]
        }
      ],
      "source": [
        "np_array = np.array(data)\n",
        "x_np = torch.from_numpy(np_array)\n",
        "\n",
        "print(type(np_array));\n",
        "print(np_array)\n",
        "print(x_np)\n",
        "print(type(x_np))"
      ]
    },
    {
      "cell_type": "markdown",
      "id": "094c0827-8c84-4c67-b1bf-97dc6b263bc0",
      "metadata": {
        "id": "094c0827-8c84-4c67-b1bf-97dc6b263bc0"
      },
      "source": [
        "### 3) random値や定数のtensorの作成"
      ]
    },
    {
      "cell_type": "code",
      "execution_count": null,
      "id": "59591340-7a1f-46ed-8325-eb7a327a59d0",
      "metadata": {
        "id": "59591340-7a1f-46ed-8325-eb7a327a59d0",
        "outputId": "70cc52c7-e76c-423b-f803-a2a3df5cd0a0",
        "colab": {
          "base_uri": "https://localhost:8080/"
        }
      },
      "outputs": [
        {
          "output_type": "stream",
          "name": "stdout",
          "text": [
            "tensor([[0., 0., 0.],\n",
            "        [0., 0., 0.]])\n",
            "tensor([[1., 1., 1.],\n",
            "        [1., 1., 1.]])\n",
            "tensor([[0.8896, 0.7255, 0.0301],\n",
            "        [0.4423, 0.6200, 0.9527]])\n"
          ]
        }
      ],
      "source": [
        "shape=(2, 3)\n",
        "zeros_tensor = torch.zeros(shape)\n",
        "ones_tensor = torch.ones(shape)\n",
        "rand_tensor = torch.rand(shape)\n",
        "\n",
        "print(zeros_tensor)\n",
        "print(ones_tensor)\n",
        "print(rand_tensor)"
      ]
    },
    {
      "cell_type": "markdown",
      "id": "c8647749-6c3c-4e8b-b187-d9009025908a",
      "metadata": {
        "id": "c8647749-6c3c-4e8b-b187-d9009025908a"
      },
      "source": [
        "## 2. numpyとtensorでメモリの共有\n",
        "### tensorからnumpyへ変換"
      ]
    },
    {
      "cell_type": "code",
      "execution_count": null,
      "id": "e06b2f33-e928-4068-bc10-cfd3df8aa12a",
      "metadata": {
        "id": "e06b2f33-e928-4068-bc10-cfd3df8aa12a",
        "outputId": "f8b4e22e-e9df-482d-9dee-e6119de3bda5",
        "colab": {
          "base_uri": "https://localhost:8080/"
        }
      },
      "outputs": [
        {
          "output_type": "stream",
          "name": "stdout",
          "text": [
            "<class 'numpy.ndarray'>\n",
            "[[0.8895748  0.7255027  0.03008831]\n",
            " [0.44234514 0.62000823 0.95269996]]\n"
          ]
        }
      ],
      "source": [
        "rand_np = rand_tensor.numpy()\n",
        "print(type(rand_np))\n",
        "print(rand_np)"
      ]
    },
    {
      "cell_type": "markdown",
      "id": "e8e1f7b7-b97c-421c-848c-26d55f54bee5",
      "metadata": {
        "id": "e8e1f7b7-b97c-421c-848c-26d55f54bee5"
      },
      "source": [
        "### CPUメモリの共有"
      ]
    },
    {
      "cell_type": "code",
      "execution_count": null,
      "id": "d51a43db-df97-4964-a027-48012b236869",
      "metadata": {
        "id": "d51a43db-df97-4964-a027-48012b236869",
        "outputId": "253f9f8b-e918-45be-aae0-44f401708b38",
        "colab": {
          "base_uri": "https://localhost:8080/"
        }
      },
      "outputs": [
        {
          "output_type": "stream",
          "name": "stdout",
          "text": [
            "[[0.8895748  0.         0.03008831]\n",
            " [0.44234514 0.         0.95269996]]\n",
            "tensor([[0.8896, 0.0000, 0.0301],\n",
            "        [0.4423, 0.0000, 0.9527]])\n"
          ]
        }
      ],
      "source": [
        "rand_np[:,1] = 0 \n",
        "\n",
        "print(rand_np)\n",
        "print(rand_tensor)"
      ]
    },
    {
      "cell_type": "markdown",
      "id": "b9a53210-56df-4a4d-94cb-054696b7322d",
      "metadata": {
        "id": "b9a53210-56df-4a4d-94cb-054696b7322d"
      },
      "source": [
        "## 3. GPUメモリへ移動"
      ]
    },
    {
      "cell_type": "code",
      "execution_count": null,
      "id": "1a553e2c-6dab-45d4-bbe6-847221e6af71",
      "metadata": {
        "id": "1a553e2c-6dab-45d4-bbe6-847221e6af71",
        "outputId": "bf782e7c-14cc-4e49-c077-2a342c15842e",
        "colab": {
          "base_uri": "https://localhost:8080/"
        }
      },
      "outputs": [
        {
          "output_type": "stream",
          "name": "stdout",
          "text": [
            "tensor([[0.2615, 0.0592],\n",
            "        [0.6280, 0.9563]])\n",
            "tensor([[0.9733, 0.5160],\n",
            "        [0.5958, 0.3341]])\n"
          ]
        }
      ],
      "source": [
        "import torch\n",
        "\n",
        "X = torch.rand(2, 2)\n",
        "print(X)\n",
        "if torch.cuda.is_available():\n",
        "    Y = X.to('cuda')\n",
        "print(Y)"
      ]
    },
    {
      "cell_type": "code",
      "execution_count": null,
      "id": "bf6dd0cd-6ee5-46e5-9699-0d920d6d741f",
      "metadata": {
        "id": "bf6dd0cd-6ee5-46e5-9699-0d920d6d741f",
        "outputId": "00efd83d-7e46-4572-ea7f-b51d1563c4f3",
        "colab": {
          "base_uri": "https://localhost:8080/"
        }
      },
      "outputs": [
        {
          "output_type": "stream",
          "name": "stdout",
          "text": [
            "tensor([[1.2547, 0.6746],\n",
            "        [0.7789, 0.4190]])\n"
          ]
        }
      ],
      "source": [
        "Z = Y @ Y\n",
        "print(Z)"
      ]
    },
    {
      "cell_type": "code",
      "source": [
        "X[:,1] = 0\n",
        "print(X)\n",
        "print(Y)\n",
        "print(Z)"
      ],
      "metadata": {
        "id": "NV1AVLzdHdYG",
        "outputId": "16d4e331-2cf2-430a-c8a1-ec4ac25a96d5",
        "colab": {
          "base_uri": "https://localhost:8080/"
        }
      },
      "id": "NV1AVLzdHdYG",
      "execution_count": null,
      "outputs": [
        {
          "output_type": "stream",
          "name": "stdout",
          "text": [
            "tensor([[0.2615, 0.0000],\n",
            "        [0.6280, 0.0000]])\n",
            "tensor([[0.9733, 0.5160],\n",
            "        [0.5958, 0.3341]])\n",
            "tensor([[1.2547, 0.6746],\n",
            "        [0.7789, 0.4190]])\n"
          ]
        }
      ]
    },
    {
      "cell_type": "markdown",
      "id": "8968c049-4819-4dd2-b265-c807ff2cdf74",
      "metadata": {
        "id": "8968c049-4819-4dd2-b265-c807ff2cdf74"
      },
      "source": [
        "## 4.tensorの演算"
      ]
    },
    {
      "cell_type": "code",
      "execution_count": null,
      "id": "e250ba32-0ee1-4847-8708-d0be77ac7436",
      "metadata": {
        "id": "e250ba32-0ee1-4847-8708-d0be77ac7436",
        "outputId": "e633d650-7193-43be-ea10-faf3b78ab342"
      },
      "outputs": [
        {
          "name": "stdout",
          "output_type": "stream",
          "text": [
            "tensor([[4, 1],\n",
            "        [7, 7]])\n",
            "tensor([[5, 4],\n",
            "        [8, 7]])\n"
          ]
        }
      ],
      "source": [
        "import torch\n",
        "X = torch.randint(low=1, high=9, size=(2,2,))\n",
        "Y = torch.randint(low=1, high=9, size=(2,2,))\n",
        "print(X)\n",
        "print(Y)"
      ]
    },
    {
      "cell_type": "code",
      "execution_count": null,
      "id": "0ecfaa19-cb3e-44d9-8257-5375e6935192",
      "metadata": {
        "id": "0ecfaa19-cb3e-44d9-8257-5375e6935192",
        "outputId": "024f1a94-714b-4816-b1ce-9316a157d408"
      },
      "outputs": [
        {
          "name": "stdout",
          "output_type": "stream",
          "text": [
            "tensor([[ 9,  5],\n",
            "        [15, 14]])\n",
            "tensor([[-1, -3],\n",
            "        [-1,  0]])\n",
            "tensor([[20,  4],\n",
            "        [56, 49]])\n",
            "tensor([[0.8000, 0.2500],\n",
            "        [0.8750, 1.0000]])\n",
            "tensor([[4, 1],\n",
            "        [7, 0]])\n",
            "tensor([[28, 23],\n",
            "        [91, 77]])\n"
          ]
        }
      ],
      "source": [
        "print(X + Y)\n",
        "print(X - Y)\n",
        "print(X * Y)\n",
        "print(X / Y)\n",
        "print(X % Y)\n",
        "print(X @ Y)"
      ]
    },
    {
      "cell_type": "code",
      "execution_count": null,
      "id": "b77d9acb-a112-4d40-bb59-97ca5b714ec5",
      "metadata": {
        "id": "b77d9acb-a112-4d40-bb59-97ca5b714ec5"
      },
      "outputs": [],
      "source": []
    }
  ],
  "metadata": {
    "kernelspec": {
      "display_name": "Python 3 (ipykernel)",
      "language": "python",
      "name": "python3"
    },
    "language_info": {
      "codemirror_mode": {
        "name": "ipython",
        "version": 3
      },
      "file_extension": ".py",
      "mimetype": "text/x-python",
      "name": "python",
      "nbconvert_exporter": "python",
      "pygments_lexer": "ipython3",
      "version": "3.9.12"
    },
    "colab": {
      "provenance": [],
      "include_colab_link": true
    }
  },
  "nbformat": 4,
  "nbformat_minor": 5
}